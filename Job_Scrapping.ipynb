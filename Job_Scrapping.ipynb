{
 "cells": [
  {
   "cell_type": "code",
   "execution_count": null,
   "metadata": {
    "id": "bf2830f8"
   },
   "outputs": [],
   "source": [
    "import pandas as pd\n",
    "import numpy as np\n",
    "import requests\n",
    "import bs4\n",
    "from bs4 import BeautifulSoup\n",
    "from tqdm import tqdm \n",
    "import time\n",
    "import random\n",
    "from sklearn.tree import DecisionTreeClassifier\n",
    "from sklearn import tree\n",
    "from sklearn.linear_model import LogisticRegression, LogisticRegressionCV"
   ]
  },
  {
   "cell_type": "code",
   "execution_count": null,
   "metadata": {
    "id": "cb9733ce"
   },
   "outputs": [],
   "source": [
    "def extract_company(result):\n",
    "    try:\n",
    "        return result.find('span',{'class':'companyName'}).text\n",
    "    except:\n",
    "        return None"
   ]
  },
  {
   "cell_type": "code",
   "execution_count": null,
   "metadata": {
    "id": "497e893a"
   },
   "outputs": [],
   "source": [
    "def extract_salary(result):\n",
    "    try:\n",
    "        return result.find('div',{'class':'attribute_snippet'}).text\n",
    "    except:\n",
    "        return None"
   ]
  },
  {
   "cell_type": "code",
   "execution_count": null,
   "metadata": {
    "id": "5d041ae9"
   },
   "outputs": [],
   "source": [
    "def extract_location(result):   \n",
    "    try:\n",
    "        return result.find('div',{'class':'companyLocation'}).text\n",
    "    except:\n",
    "        return None"
   ]
  },
  {
   "cell_type": "code",
   "execution_count": null,
   "metadata": {
    "id": "a1d08b26"
   },
   "outputs": [],
   "source": [
    "def extract_job(result):\n",
    "    try:\n",
    "        return result.find('h2', attrs={'class':'jobTitle'}).text\n",
    "    except:\n",
    "        return None"
   ]
  },
  {
   "cell_type": "code",
   "execution_count": null,
   "metadata": {
    "id": "xhHxwqVqSvdy"
   },
   "outputs": [],
   "source": [
    "def extract_url(result):\n",
    "  try:\n",
    "    atag = result.h2.a\n",
    "    job_url = 'https://www.indeed.com' + atag.get('href')\n",
    "    return job_url\n",
    "  except:\n",
    "    return None "
   ]
  },
  {
   "cell_type": "code",
   "execution_count": null,
   "metadata": {
    "id": "d7ce3ae5"
   },
   "outputs": [],
   "source": [
    "def extract_rating(result):\n",
    "    try:\n",
    "        return result.find('span', attrs={'class':'ratingNumber'}).text\n",
    "    except:\n",
    "        return None"
   ]
  },
  {
   "cell_type": "code",
   "execution_count": null,
   "metadata": {
    "id": "c87c7ed6"
   },
   "outputs": [],
   "source": [
    "def extract_snippet(result):\n",
    "    try:\n",
    "        return result.find('div', attrs={'class':'job-snippet'}).text.replace('\\n', ' ')\n",
    "    except:\n",
    "        return None"
   ]
  },
  {
   "cell_type": "code",
   "execution_count": null,
   "metadata": {
    "id": "lCfR5ArF42xF"
   },
   "outputs": [],
   "source": [
    "def extract_date(result):\n",
    "  try:\n",
    "    return result.find('span', {'class':'date' }).text.replace('\\n', '')\n",
    "  except:\n",
    "    return None"
   ]
  },
  {
   "cell_type": "code",
   "execution_count": null,
   "metadata": {},
   "outputs": [],
   "source": [
    "job = 'data+scientist'\n",
    "url_template = \"https://www.indeed.com/jobs?q=\"+ job + \"&l&vjk=5015ead57ec8b7ad\"\n",
    "max_results_per_city = 1000\n",
    "results = []"
   ]
  },
  {
   "cell_type": "code",
   "execution_count": null,
   "metadata": {
    "colab": {
     "base_uri": "https://localhost:8080/"
    },
    "id": "f37cf277",
    "outputId": "ffae3318-4229-4766-e693-8235d9d11534"
   },
   "outputs": [],
   "source": [
    "job = 'data+scientist'\n",
    "url_template = \"https://www.indeed.com/jobs?q=\"+ job + \"&l&vjk=5015ead57ec8b7ad\"\n",
    "max_results_per_city = 1000\n",
    "results = []\n",
    "\n",
    "for city in ['Remote']:\n",
    "    for start in tqdm(range(0, max_results_per_city, 10)):\n",
    "        time.sleep(random.randint(1,2))\n",
    "        r1 = requests.get(url_template.format(city,start))\n",
    "\n",
    "        soup = BeautifulSoup(r1.text, 'html.parser')\n",
    "\n",
    "        jobs = soup.find_all(name='div', attrs={'class':\"slider_container\"})\n",
    "        results.extend(jobs)"
   ]
  },
  {
   "cell_type": "code",
   "execution_count": null,
   "metadata": {
    "id": "7f8bf119"
   },
   "outputs": [],
   "source": [
    "df = pd.DataFrame({\"Job Title\":extract_job(result),\"Company\":extract_company(result),\n",
    "     \"Location\":extract_location(result),\"Salary\":extract_salary(result),\n",
    "      \"Rating\":extract_rating(result),\"Job_Description\":extract_snippet(result), \"Urls\":extract_url(result), \"Date\": extract_date(result)} for result in results)"
   ]
  },
  {
   "cell_type": "code",
   "execution_count": null,
   "metadata": {
    "id": "eGmfbH5g_j1j"
   },
   "outputs": [],
   "source": [
    "# df.to_csv('indeed.csv', index=False, encoding='utf-8')\n"
   ]
  },
  {
   "cell_type": "code",
   "execution_count": null,
   "metadata": {},
   "outputs": [],
   "source": [
    "#df = pd.read_csv('indeed.csv')"
   ]
  },
  {
   "cell_type": "code",
   "execution_count": null,
   "metadata": {
    "id": "MjBhnuiMA4lc"
   },
   "outputs": [],
   "source": [
    "def extract_url(job_url):\n",
    "    r1 = requests.get(job_url.format(start))\n",
    "    soup = BeautifulSoup(r1.text, 'html.parser')\n",
    "    result = soup.find_all(name='div', attrs={'class':\"icl-u-lg-hide\"})\n",
    "    # extract_url = result.get('href')\n",
    "    return result "
   ]
  },
  {
   "cell_type": "code",
   "execution_count": null,
   "metadata": {},
   "outputs": [],
   "source": [
    "df.info()"
   ]
  },
  {
   "cell_type": "code",
   "execution_count": null,
   "metadata": {},
   "outputs": [],
   "source": [
    "df = df.reset_index()"
   ]
  },
  {
   "cell_type": "code",
   "execution_count": null,
   "metadata": {
    "scrolled": true
   },
   "outputs": [],
   "source": [
    "df.head()"
   ]
  },
  {
   "cell_type": "code",
   "execution_count": null,
   "metadata": {},
   "outputs": [],
   "source": [
    "df['Urls'][0]"
   ]
  },
  {
   "cell_type": "code",
   "execution_count": null,
   "metadata": {
    "id": "F1pHCz8B31Bg"
   },
   "outputs": [],
   "source": [
    "external_URL = []\n",
    "for n in range(int(len(df))):\n",
    "    external_URL.append(str(extract_url(df['Urls'][n])))"
   ]
  },
  {
   "cell_type": "code",
   "execution_count": null,
   "metadata": {},
   "outputs": [],
   "source": [
    "df['external_URL'] = 0    "
   ]
  },
  {
   "cell_type": "code",
   "execution_count": null,
   "metadata": {},
   "outputs": [],
   "source": [
    "len(df)"
   ]
  },
  {
   "cell_type": "code",
   "execution_count": null,
   "metadata": {
    "id": "lUuXJckOevl_",
    "scrolled": true
   },
   "outputs": [],
   "source": [
    "for n in range(len(external_URL)):\n",
    "    df['external_URL'][n] = external_URL[n]    "
   ]
  },
  {
   "cell_type": "code",
   "execution_count": null,
   "metadata": {
    "scrolled": true
   },
   "outputs": [],
   "source": [
    "for n in range(len(df)):\n",
    "    if df['external_URL'][n] != 0:\n",
    "        before, sep, after = df['external_URL'][n].partition('\"icl-Button icl-Button--primary icl-Button--lg icl-Button--block jobsearch-CallToApply-applyButton-newDesign\" href=\"')\n",
    "        if len(after) > 0:\n",
    "            df['external_URL'][n] = after"
   ]
  },
  {
   "cell_type": "code",
   "execution_count": null,
   "metadata": {},
   "outputs": [],
   "source": [
    "for n in range(len(df)):\n",
    "    if df['external_URL'][n] != 0:\n",
    "        before, sep, after = df['external_URL'][n].partition('\" referrerpolicy=\"origin\" rel=\"noopener\"')\n",
    "        if len(after) > 0:\n",
    "            df['external_URL'][n] = before"
   ]
  },
  {
   "cell_type": "code",
   "execution_count": null,
   "metadata": {},
   "outputs": [],
   "source": [
    "df.head(12)"
   ]
  },
  {
   "cell_type": "code",
   "execution_count": null,
   "metadata": {},
   "outputs": [],
   "source": [
    "df = df.reset_index()"
   ]
  },
  {
   "cell_type": "code",
   "execution_count": null,
   "metadata": {
    "scrolled": true
   },
   "outputs": [],
   "source": [
    "df.info()"
   ]
  },
  {
   "cell_type": "code",
   "execution_count": null,
   "metadata": {},
   "outputs": [],
   "source": [
    "for n in range(len(df)):\n",
    "    if df['external_URL'][n] != 0:\n",
    "        df.external_URL[n].strip()"
   ]
  },
  {
   "cell_type": "code",
   "execution_count": null,
   "metadata": {},
   "outputs": [],
   "source": [
    "df.head()"
   ]
  },
  {
   "cell_type": "code",
   "execution_count": null,
   "metadata": {},
   "outputs": [],
   "source": [
    "df = df=df.drop_duplicates()"
   ]
  },
  {
   "cell_type": "code",
   "execution_count": null,
   "metadata": {},
   "outputs": [],
   "source": [
    "df.to_csv('indeed3.csv', index=False, encoding='utf-8')\n"
   ]
  },
  {
   "cell_type": "code",
   "execution_count": null,
   "id": "552ba869",
   "metadata": {},
   "outputs": [],
   "source": [
    "!pip install --upgrade google-api-python-client google-auth-httplib2 google-auth-oauthlib\n",
    "!pip install gspread"
   ]
  },
  {
   "cell_type": "code",
   "execution_count": null,
   "id": "ecc896f0",
   "metadata": {},
   "outputs": [],
   "source": [
    "import gspread\n",
    "from google.oauth2.service_account import Credentials"
   ]
  },
  {
   "cell_type": "code",
   "execution_count": null,
   "id": "d6a7cad1",
   "metadata": {},
   "outputs": [],
   "source": [
    "def create_credentials():\n",
    "\n",
    "    scopes = [\n",
    "        'https://www.googleapis.com/auth/spreadsheets',\n",
    "        'https://www.googleapis.com/auth/drive'\n",
    "        ]\n",
    "        \n",
    "    credentials = Credentials.from_service_account_file(\n",
    "            'xxxxxxxxx.json',\n",
    "            scopes=scopes\n",
    "        )\n",
    "    \n",
    "    return gspread.authorize(credentials)"
   ]
  },
  {
   "cell_type": "code",
   "execution_count": null,
   "id": "24605429",
   "metadata": {},
   "outputs": [],
   "source": [
    "def update_spreadsheet(id_sheet, id_spreadsheet, df):\n",
    "    gc = create_credentials()\n",
    "    \n",
    "    gc = gc.open_by_key(id_spreadsheet)\n",
    "    \n",
    "    sheet = gc.get_worksheet(id_sheet)\n",
    "    \n",
    "    sheet.update(([df.columns.values.tolist()] + df.values.tolist()))\n"
   ]
  },
  {
   "cell_type": "code",
   "execution_count": null,
   "id": "cb7be05d",
   "metadata": {},
   "outputs": [],
   "source": [
    "update_spreadsheet(0, \"xxxxxxxx\", df)"
   ]
  }
 ],
 "metadata": {
  "colab": {
   "collapsed_sections": [],
   "name": "Job Scrapping.ipynb",
   "provenance": []
  },
  "kernelspec": {
   "display_name": "Python 3 (ipykernel)",
   "language": "python",
   "name": "python3"
  },
  "language_info": {
   "codemirror_mode": {
    "name": "ipython",
    "version": 3
   },
   "file_extension": ".py",
   "mimetype": "text/x-python",
   "name": "python",
   "nbconvert_exporter": "python",
   "pygments_lexer": "ipython3",
   "version": "3.8.12"
  },
  "toc": {
   "base_numbering": 1,
   "nav_menu": {},
   "number_sections": true,
   "sideBar": true,
   "skip_h1_title": false,
   "title_cell": "Table of Contents",
   "title_sidebar": "Contents",
   "toc_cell": false,
   "toc_position": {},
   "toc_section_display": true,
   "toc_window_display": false
  }
 },
 "nbformat": 4,
 "nbformat_minor": 1
}
